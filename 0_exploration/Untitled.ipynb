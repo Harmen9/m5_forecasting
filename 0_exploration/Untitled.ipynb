{
 "cells": [
  {
   "cell_type": "markdown",
   "id": "64c5cb6a-b76c-4c17-9aa7-dfa7c623b1c7",
   "metadata": {},
   "source": [
    "# M5 Competition Data Exploration"
   ]
  },
  {
   "cell_type": "code",
   "execution_count": 21,
   "id": "d38c0384-375f-4e8d-9169-e2b4bc4e14e2",
   "metadata": {},
   "outputs": [],
   "source": [
    "import os\n",
    "import sys\n",
    "import pandas as pd\n",
    "from pathlib import Path"
   ]
  },
  {
   "cell_type": "code",
   "execution_count": 29,
   "id": "36bc92a8-05a1-46c9-8ea8-730f024eb499",
   "metadata": {},
   "outputs": [
    {
     "ename": "ModuleNotFoundError",
     "evalue": "No module named 'config'",
     "output_type": "error",
     "traceback": [
      "\u001b[1;31m---------------------------------------------------------------------\u001b[0m",
      "\u001b[1;31mModuleNotFoundError\u001b[0m                 Traceback (most recent call last)",
      "Cell \u001b[1;32mIn[29], line 6\u001b[0m\n\u001b[0;32m      3\u001b[0m os\u001b[38;5;241m.\u001b[39mchdir(base_path)\n\u001b[0;32m      5\u001b[0m \u001b[38;5;66;03m# Now you can import modules from that folder\u001b[39;00m\n\u001b[1;32m----> 6\u001b[0m \u001b[38;5;28;01mfrom\u001b[39;00m \u001b[38;5;21;01mconfig\u001b[39;00m \u001b[38;5;28;01mimport\u001b[39;00m path_config\n",
      "\u001b[1;31mModuleNotFoundError\u001b[0m: No module named 'config'"
     ]
    }
   ],
   "source": [
    "# import functions\n",
    "base_path = Path(os.getcwd()).parent\n",
    "os.chdir(base_path)\n",
    "\n",
    "# Now you can import modules from that folder\n",
    "from config import path_config"
   ]
  },
  {
   "cell_type": "code",
   "execution_count": 12,
   "id": "d2899b52-0b34-42de-a516-f543df01c63c",
   "metadata": {},
   "outputs": [],
   "source": [
    "#Define input folders\n"
   ]
  },
  {
   "cell_type": "markdown",
   "id": "18273188-39e1-4726-9e72-a9252c3bd5b1",
   "metadata": {},
   "source": [
    "To quickly create a starting model that later can be improved upon the following strategy is used.\n",
    "### Strategy\n",
    "Model: Single lightGBT model\\\n",
    "Prediction result: Direct multi-step forecasting [F1 .. F28] predicted at once by training seperate models for each lag\\\n",
    "Train/test split: 5 fold cross validation using sklearn.model_selection.TimeSeriesSplit\\\n",
    "No recursive features: No output of the model is used as a feature for other predictions\n",
    "\n",
    "### Features\n",
    "Sales features:\n",
    "* sales_lag {1,2,3,4,5,6,7,8,9,10,11,12,13,14}\n",
    "* rolling_mean {7, 14, 30} \n",
    "\n",
    "Category features:\n",
    "* store_id\n",
    "* state_id\n",
    "* cat_id\n",
    "* store_id\n",
    "* dept_id"
   ]
  },
  {
   "cell_type": "markdown",
   "id": "11e58dec",
   "metadata": {},
   "source": []
  },
  {
   "cell_type": "markdown",
   "id": "6b72b867",
   "metadata": {},
   "source": []
  },
  {
   "cell_type": "markdown",
   "id": "c1fce1de",
   "metadata": {},
   "source": []
  },
  {
   "cell_type": "markdown",
   "id": "1ded0595",
   "metadata": {},
   "source": []
  },
  {
   "cell_type": "code",
   "execution_count": 7,
   "id": "cac1c936-ae16-4046-a87c-ffbb5a77ab8b",
   "metadata": {},
   "outputs": [
    {
     "data": {
      "text/plain": [
       "'C:\\\\Users\\\\HarmenKerkenaar\\\\Documents\\\\Local\\\\m5_forecasting\\\\0_exploration'"
      ]
     },
     "execution_count": 7,
     "metadata": {},
     "output_type": "execute_result"
    }
   ],
   "source": []
  }
 ],
 "metadata": {
  "kernelspec": {
   "display_name": "Python 3 (ipykernel)",
   "language": "python",
   "name": "python3"
  },
  "language_info": {
   "codemirror_mode": {
    "name": "ipython",
    "version": 3
   },
   "file_extension": ".py",
   "mimetype": "text/x-python",
   "name": "python",
   "nbconvert_exporter": "python",
   "pygments_lexer": "ipython3",
   "version": "3.12.0"
  }
 },
 "nbformat": 4,
 "nbformat_minor": 5
}
